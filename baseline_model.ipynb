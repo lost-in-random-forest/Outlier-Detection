{
 "cells": [
  {
   "cell_type": "code",
   "execution_count": 208,
   "metadata": {},
   "outputs": [],
   "source": [
    "import pandas as pd\n",
    "import numpy as np\n",
    "import matplotlib.pyplot as plt\n",
    "import seaborn as sns\n",
    "from geopy.distance import great_circle\n",
    "pd.options.display.max_columns=30"
   ]
  },
  {
   "cell_type": "code",
   "execution_count": 73,
   "metadata": {
    "collapsed": true
   },
   "outputs": [],
   "source": [
    "from sklearn.preprocessing import Imputer, MinMaxScaler\n",
    "from sklearn.linear_model import LinearRegression\n",
    "from sklearn.svm import SVR\n",
    "from sklearn.ensemble import RandomForestRegressor,GradientBoostingRegressor\n",
    "from sklearn.model_selection import KFold, train_test_split\n",
    "from sklearn.metrics import mean_squared_error\n",
    "from sklearn.pipeline import Pipeline\n",
    "from sklearn.preprocessing import LabelEncoder"
   ]
  },
  {
   "cell_type": "code",
   "execution_count": 259,
   "metadata": {
    "collapsed": true
   },
   "outputs": [],
   "source": [
    "import lightgbm as lgb"
   ]
  },
  {
   "cell_type": "code",
   "execution_count": 228,
   "metadata": {
    "collapsed": true
   },
   "outputs": [],
   "source": [
    "coordinates={\"NYC\":(40.7128, -74.0060),\"LA\":(34.0522, -118.2437),\n",
    "             \"SF\":(37.7749, -122.4194),\"DC\":(38.9072, -77.0369),\n",
    "             \"Chicago\":(41.8781, -87.6298),\"Boston\":(42.3601, -71.0589)}"
   ]
  },
  {
   "cell_type": "code",
   "execution_count": 227,
   "metadata": {},
   "outputs": [
    {
     "name": "stderr",
     "output_type": "stream",
     "text": [
      "C:\\Users\\abhibiswas\\AppData\\Local\\Continuum\\Anaconda3\\lib\\site-packages\\pandas\\core\\generic.py:3549: SettingWithCopyWarning: \n",
      "A value is trying to be set on a copy of a slice from a DataFrame\n",
      "\n",
      "See the caveats in the documentation: http://pandas.pydata.org/pandas-docs/stable/indexing.html#indexing-view-versus-copy\n",
      "  self._update_inplace(new_data)\n"
     ]
    }
   ],
   "source": [
    "train_data=pd.read_csv(\"train.csv\")\n",
    "test_data=pd.read_csv(\"test.csv\")\n",
    "\n",
    "#Creating new feature: number of amenities\n",
    "translator=str.maketrans({\"{\":\"\",\"}\":\"\",'''\"''':\"\"})\n",
    "train_data[\"num_amenities\"]=train_data[\"amenities\"].str.translate(translator).str.split(\",\").apply(len)\n",
    "test_data[\"num_amenities\"]=test_data[\"amenities\"].str.translate(translator).str.split(\",\").apply(len)\n",
    "\n",
    "#Creating new feature: length of description\n",
    "\n",
    "train_data[\"len_description\"]=train_data[\"description\"].str.len()\n",
    "test_data[\"len_description\"]=test_data[\"description\"].str.len()\n",
    "\n",
    "\n",
    "#Creating new feature: Distance from city centre (Based on Google Coordinates)\n",
    "train_data[\"coordinates\"]=train_data.apply(lambda x: (x[\"latitude\"],x[\"longitude\"]),axis=1)\n",
    "test_data[\"coordinates\"]=test_data.apply(lambda x: (x[\"latitude\"],x[\"longitude\"]),axis=1)\n",
    "\n",
    "train_data[\"distance\"]=train_data.apply(lambda x: great_circle(coordinates[x[\"city\"]],x[\"coordinates\"]).km,axis=1)\n",
    "test_data[\"distance\"]=test_data.apply(lambda x: great_circle(coordinates[x[\"city\"]],x[\"coordinates\"]).km,axis=1)\n",
    "\n",
    "\n",
    "features=train_data.columns.drop([\"id\",\"log_price\",\"coordinates\",\"amenities\",\"description\",\"first_review\",\"last_review\",\"name\",\"host_since\",\"thumbnail_url\",\"latitude\",\"longitude\"])\n",
    "\n",
    "#Imputing missing values with mode for categorical variables\n",
    "response_rate_mode=train_data[\"host_response_rate\"].value_counts().index[0]\n",
    "train_data[\"host_response_rate\"]=train_data[\"host_response_rate\"].fillna(response_rate_mode).str.replace(\"%\",\"\").str.rstrip().map(int)\n",
    "test_data[\"host_response_rate\"]=test_data[\"host_response_rate\"].fillna(response_rate_mode).str.replace(\"%\",\"\").str.rstrip().map(int)\n",
    "\n",
    "X_train_data=train_data[features]\n",
    "X_test_data=test_data[features]\n",
    "for col in X_train_data.select_dtypes(include=[\"object\"]).columns:\n",
    "    col_mode=X_train_data[col].value_counts().index[0]\n",
    "    X_train_data[col].fillna(col_mode,inplace=True)\n",
    "    X_test_data[col].fillna(col_mode,inplace=True)\n",
    "    "
   ]
  },
  {
   "cell_type": "code",
   "execution_count": 231,
   "metadata": {},
   "outputs": [
    {
     "name": "stderr",
     "output_type": "stream",
     "text": [
      "C:\\Users\\abhibiswas\\AppData\\Local\\Continuum\\Anaconda3\\lib\\site-packages\\ipykernel_launcher.py:6: SettingWithCopyWarning: \n",
      "A value is trying to be set on a copy of a slice from a DataFrame.\n",
      "Try using .loc[row_indexer,col_indexer] = value instead\n",
      "\n",
      "See the caveats in the documentation: http://pandas.pydata.org/pandas-docs/stable/indexing.html#indexing-view-versus-copy\n",
      "  \n",
      "C:\\Users\\abhibiswas\\AppData\\Local\\Continuum\\Anaconda3\\lib\\site-packages\\ipykernel_launcher.py:7: SettingWithCopyWarning: \n",
      "A value is trying to be set on a copy of a slice from a DataFrame.\n",
      "Try using .loc[row_indexer,col_indexer] = value instead\n",
      "\n",
      "See the caveats in the documentation: http://pandas.pydata.org/pandas-docs/stable/indexing.html#indexing-view-versus-copy\n",
      "  import sys\n"
     ]
    }
   ],
   "source": [
    "#Label Encoding Categorical variables\n",
    "data=X_train_data.append(X_test_data)\n",
    "for col in X_train_data.select_dtypes(include=[\"object\"]):\n",
    "    le=LabelEncoder()\n",
    "    le.fit(data[col])\n",
    "    X_train_data[col]=le.transform(X_train_data[col])\n",
    "    X_test_data[col]=le.transform(X_test_data[col])"
   ]
  },
  {
   "cell_type": "code",
   "execution_count": 232,
   "metadata": {},
   "outputs": [],
   "source": [
    "#Imputing missing numerical variables with median\n",
    "pipeline=Pipeline([(\"impute\",Imputer(strategy='median'))])\n",
    "X_train_data=pd.DataFrame(pipeline.fit_transform(X_train_data),columns=X_train_data.columns)\n",
    "X_test_data=pd.DataFrame(pipeline.transform(X_test_data),columns=X_test_data.columns)\n",
    "Y_train_data=train_data[\"log_price\"]"
   ]
  },
  {
   "cell_type": "code",
   "execution_count": 233,
   "metadata": {
    "collapsed": true
   },
   "outputs": [],
   "source": [
    "#Splitting Orgininal training data into train and test\n",
    "x_train, x_test, y_train, y_test= train_test_split(X_train_data, Y_train_data,random_state=42)"
   ]
  },
  {
   "cell_type": "code",
   "execution_count": 298,
   "metadata": {},
   "outputs": [
    {
     "data": {
      "text/plain": [
       "GradientBoostingRegressor(alpha=0.9, criterion='friedman_mse', init=None,\n",
       "             learning_rate=0.1, loss='ls', max_depth=6, max_features=None,\n",
       "             max_leaf_nodes=None, min_impurity_split=1e-07,\n",
       "             min_samples_leaf=1, min_samples_split=2,\n",
       "             min_weight_fraction_leaf=0.0, n_estimators=300,\n",
       "             presort='auto', random_state=None, subsample=1.0, verbose=0,\n",
       "             warm_start=False)"
      ]
     },
     "execution_count": 298,
     "metadata": {},
     "output_type": "execute_result"
    }
   ],
   "source": [
    "clf=GradientBoostingRegressor(n_estimators=300,max_depth=6)\n",
    "clf.fit(X_train_data,Y_train_data)"
   ]
  },
  {
   "cell_type": "code",
   "execution_count": 299,
   "metadata": {},
   "outputs": [
    {
     "name": "stdout",
     "output_type": "stream",
     "text": [
      "Test RMSE: 0.341441103322\n",
      "Train RMSE: 0.341788377393\n"
     ]
    }
   ],
   "source": [
    "print(\"Test RMSE:\",np.sqrt(mean_squared_error(y_test,clf.predict(x_test))))\n",
    "print(\"Train RMSE:\",np.sqrt(mean_squared_error(y_train,clf.predict(x_train))))"
   ]
  },
  {
   "cell_type": "code",
   "execution_count": 297,
   "metadata": {},
   "outputs": [
    {
     "data": {
      "text/plain": [
       "[(0.19119883361427503, 'distance'),\n",
       " (0.15247282608066898, 'zipcode'),\n",
       " (0.088302541116368552, 'neighbourhood'),\n",
       " (0.081883051064007381, 'len_description'),\n",
       " (0.068163298385171267, 'num_amenities'),\n",
       " (0.065196772556161464, 'number_of_reviews'),\n",
       " (0.046462045474355694, 'room_type'),\n",
       " (0.043866500474624856, 'accommodates'),\n",
       " (0.032507512040590242, 'bathrooms'),\n",
       " (0.031380888994638541, 'review_scores_rating'),\n",
       " (0.03119689164980274, 'property_type'),\n",
       " (0.030709482303232758, 'host_response_rate'),\n",
       " (0.030072292923454556, 'city'),\n",
       " (0.026607254611192451, 'bedrooms'),\n",
       " (0.01944317547322277, 'beds'),\n",
       " (0.012661344441084953, 'cancellation_policy'),\n",
       " (0.01244489916760136, 'cleaning_fee'),\n",
       " (0.010854919797528423, 'instant_bookable'),\n",
       " (0.010791781970114321, 'bed_type'),\n",
       " (0.010701518568778007, 'host_identity_verified'),\n",
       " (0.0030821692931256141, 'host_has_profile_pic')]"
      ]
     },
     "execution_count": 297,
     "metadata": {},
     "output_type": "execute_result"
    }
   ],
   "source": [
    "sorted((zip(clf.feature_importances_,x_train.columns)),key=lambda x: x[0],reverse=True)"
   ]
  },
  {
   "cell_type": "code",
   "execution_count": 301,
   "metadata": {},
   "outputs": [],
   "source": [
    "submission=pd.read_csv(\"sample_submission.csv\")\n",
    "submission[\"id\"]=test_data[\"id\"]\n",
    "submission[\"log_price\"]=clf.predict(X_test_data)"
   ]
  },
  {
   "cell_type": "code",
   "execution_count": 302,
   "metadata": {},
   "outputs": [],
   "source": [
    "submission.to_csv(\"baseline_submission.csv\",index=False)"
   ]
  },
  {
   "cell_type": "code",
   "execution_count": 300,
   "metadata": {},
   "outputs": [
    {
     "data": {
      "image/png": "[encoded data removed]",
      "text/plain": [
       "<matplotlib.figure.Figure at 0x1a80a7c6518>"
      ]
     },
     "metadata": {},
     "output_type": "display_data"
    }
   ],
   "source": [
    "sns.distplot(clf.predict(X_train_data))\n",
    "plt.show()"
   ]
  },
  {
   "cell_type": "code",
   "execution_count": 240,
   "metadata": {},
   "outputs": [
    {
     "data": {
      "image/png": "[encoded data removed]",
      "text/plain": [
       "<matplotlib.figure.Figure at 0x1a863f51940>"
      ]
     },
     "metadata": {},
     "output_type": "display_data"
    }
   ],
   "source": [
    "sns.distplot(clf.predict(x_test))\n",
    "plt.show()"
   ]
  },
  {
   "cell_type": "code",
   "execution_count": 256,
   "metadata": {},
   "outputs": [],
   "source": [
    "bad_predictions=train_data.iloc[pd.Series(abs(clf.predict(x_test)-y_test)).sort_values(ascending=False).index[:10],:]"
   ]
  },
  {
   "cell_type": "code",
   "execution_count": 89,
   "metadata": {},
   "outputs": [
    {
     "data": {
      "image/png": "[encoded data removed]",
      "text/plain": [
       "<matplotlib.figure.Figure at 0x1a86415ff98>"
      ]
     },
     "metadata": {},
     "output_type": "display_data"
    }
   ],
   "source": [
    "sns.distplot(clf.predict(x_test)-y_test)\n",
    "plt.show()"
   ]
  },
  {
   "cell_type": "code",
   "execution_count": 304,
   "metadata": {},
   "outputs": [],
   "source": [
    "# lgb_train = lgb.Dataset(x_train, y_train)\n",
    "# lgb_eval = lgb.Dataset(x_test, y_test, reference=lgb_train)\n",
    "\n",
    "# # specify your configurations as a dict\n",
    "# params = {\n",
    "#     'task': 'train',\n",
    "#     'boosting_type': 'gbdt',\n",
    "#     'objective': 'regression',\n",
    "#     'metric': {'l2', 'auc'},\n",
    "#     'num_leaves': 10,\n",
    "#     'learning_rate': 0.1,\n",
    "#     'feature_fraction': 0.9,\n",
    "#     'bagging_fraction': 0.8,\n",
    "#     'bagging_freq': 5,\n",
    "#     'verbose': 0\n",
    "# }\n",
    "\n",
    "# print('Start training...')\n",
    "# # train\n",
    "# gbm = lgb.train(params,\n",
    "#                 lgb_train,\n",
    "#                 num_boost_round=100,\n",
    "#                 valid_sets=lgb_eval,\n",
    "#                 early_stopping_rounds=5)\n",
    "\n",
    "# print('Save model...')\n",
    "# # save model to file\n",
    "# gbm.save_model('model.txt')\n",
    "\n",
    "# print('Start predicting...')\n",
    "# # predict\n",
    "# y_pred = gbm.predict(x_test, num_iteration=gbm.best_iteration)\n",
    "# # eval\n",
    "# print('The rmse of prediction is:', mean_squared_error(y_test, y_pred) ** 0.5)"
   ]
  },
  {
   "cell_type": "code",
   "execution_count": 303,
   "metadata": {},
   "outputs": [],
   "source": [
    "# gbm = lgb.LGBMRegressor(objective='regression',\n",
    "#                         num_leaves=127,\n",
    "#                         learning_rate=0.1,\n",
    "#                         n_estimators=300)\n",
    "# gbm.fit(x_train, y_train,\n",
    "#         eval_set=[(x_test, y_test)],\n",
    "#         eval_metric='l2',\n",
    "#         early_stopping_rounds=30)\n",
    "\n",
    "# print('Start predicting...')\n",
    "# # predict\n",
    "# y_pred = gbm.predict(x_test, num_iteration=gbm.best_iteration_)\n",
    "# # eval\n",
    "# print('The rmse of prediction is:', mean_squared_error(y_test, y_pred) ** 0.5)\n",
    "\n",
    "# # feature importances\n",
    "# print('Feature importances:', list(gbm.feature_importances_))\n",
    "\n",
    "# # # other scikit-learn modules\n",
    "# # estimator = lgb.LGBMRegressor(num_leaves=31)\n",
    "\n",
    "# # param_grid = {\n",
    "# #     'learning_rate': [0.01, 0.1, 1],\n",
    "# #     'n_estimators': [20, 40]\n",
    "# # }\n",
    "\n",
    "# # gbm = GridSearchCV(estimator, param_grid)\n",
    "\n",
    "# # gbm.fit(x_train, y_train)\n",
    "\n",
    "# # print('Best parameters found by grid search are:', gbm.best_params_)"
   ]
  },
  {
   "cell_type": "code",
   "execution_count": null,
   "metadata": {
    "collapsed": true
   },
   "outputs": [],
   "source": []
  }
 ],
 "metadata": {
  "kernelspec": {
   "display_name": "Python 3",
   "language": "python",
   "name": "python3"
  },
  "language_info": {
   "codemirror_mode": {
    "name": "ipython",
    "version": 3
   },
   "file_extension": ".py",
   "mimetype": "text/x-python",
   "name": "python",
   "nbconvert_exporter": "python",
   "pygments_lexer": "ipython3",
   "version": "3.6.1"
  }
 },
 "nbformat": 4,
 "nbformat_minor": 2
}
